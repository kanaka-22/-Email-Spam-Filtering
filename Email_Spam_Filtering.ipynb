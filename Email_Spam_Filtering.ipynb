{
  "nbformat": 4,
  "nbformat_minor": 0,
  "metadata": {
    "colab": {
      "provenance": [],
      "include_colab_link": true
    },
    "kernelspec": {
      "name": "python3",
      "display_name": "Python 3"
    },
    "language_info": {
      "name": "python"
    }
  },
  "cells": [
    {
      "cell_type": "markdown",
      "metadata": {
        "id": "view-in-github",
        "colab_type": "text"
      },
      "source": [
        "<a href=\"https://colab.research.google.com/github/kanaka-22/-Email-Spam-Filtering/blob/main/Email_Spam_Filtering.ipynb\" target=\"_parent\"><img src=\"https://colab.research.google.com/assets/colab-badge.svg\" alt=\"Open In Colab\"/></a>"
      ]
    },
    {
      "cell_type": "markdown",
      "source": [
        "Email messaging has become an integral part of our daily lives. You've probably noticed some strange emails landing in your junk or spam folder. Many email clients, such as Gmail, use machine learning alongside other techniques to detect and filter out spam emails. Once identified, these emails are redirected to the Junk folder.\n",
        "\n",
        "In this guide, we'll learn how to build a spam email detection system using machine learning. We'll train our model on a dataset containing examples of spam content. Leveraging the powerful SciKit Learn library, we'll apply machine learning algorithms to categorize incoming emails as either spam or genuine."
      ],
      "metadata": {
        "id": "3tPqGOpfd3Qr"
      }
    },
    {
      "cell_type": "markdown",
      "source": [
        "**The Dataset**\n",
        "\n",
        "Data is a very crucial part of any Machine Learning or Artificial Intelligence model. We would be working with the SMS Spam Collection Dataset available on Kaggle https://www.kaggle.com/datasets/uciml/sms-spam-collection-dataset\n",
        "\n",
        "The SMS Spam Collection comprises a curated dataset of SMS messages, specifically gathered for research on SMS spam detection. Within this collection, there exists a corpus of 5,574 SMS messages in the English language. Each message in this dataset has been meticulously labeled as either ‘ham,’ signifying its legitimacy, or ‘spam,’ indicating its unsolicited or malicious nature."
      ],
      "metadata": {
        "id": "k5wa60z1eBhk"
      }
    },
    {
      "cell_type": "code",
      "source": [
        "import numpy as np\n",
        "import pandas as pd\n",
        "from sklearn.model_selection import train_test_split\n",
        "from sklearn.feature_extraction.text import CountVectorizer\n",
        "from sklearn.naive_bayes import MultinomialNB\n",
        "from sklearn.metrics import accuracy_score, classification_report\n",
        "import nltk\n",
        "import joblib\n",
        "from nltk.corpus import stopwords\n",
        "from nltk.tokenize import word_tokenize\n",
        "nltk.download('punkt')\n",
        "nltk.download('stopwords')\n"
      ],
      "metadata": {
        "colab": {
          "base_uri": "https://localhost:8080/"
        },
        "id": "XAqvTZ6F5RWo",
        "outputId": "bd3d1167-d31b-43b0-bde4-b8dfa78bd7a2"
      },
      "execution_count": 1,
      "outputs": [
        {
          "output_type": "stream",
          "name": "stderr",
          "text": [
            "[nltk_data] Downloading package punkt to /root/nltk_data...\n",
            "[nltk_data]   Unzipping tokenizers/punkt.zip.\n",
            "[nltk_data] Downloading package stopwords to /root/nltk_data...\n",
            "[nltk_data]   Unzipping corpora/stopwords.zip.\n"
          ]
        },
        {
          "output_type": "execute_result",
          "data": {
            "text/plain": [
              "True"
            ]
          },
          "metadata": {},
          "execution_count": 1
        }
      ]
    },
    {
      "cell_type": "code",
      "source": [
        "from google.colab import drive\n",
        "drive.mount('/content/drive')"
      ],
      "metadata": {
        "colab": {
          "base_uri": "https://localhost:8080/"
        },
        "id": "XX0LhLdCda7J",
        "outputId": "0f7a249e-7604-407a-96ff-48869df6d7cf"
      },
      "execution_count": 3,
      "outputs": [
        {
          "output_type": "stream",
          "name": "stdout",
          "text": [
            "Mounted at /content/drive\n"
          ]
        }
      ]
    },
    {
      "cell_type": "code",
      "source": [
        "df = pd.read_csv(\"/content/drive/MyDrive/spam.csv\", encoding=\"latin-1\")\n",
        "df = df.drop([\"Unnamed: 2\", \"Unnamed: 3\", \"Unnamed: 4\"], axis=1)\n",
        "df = df.rename(columns={\"v1\": \"label\", \"v2\": \"text\"})\n",
        "\n",
        "# Preprocess text data\n",
        "df[\"text\"] = df[\"text\"].str.lower()\n",
        "df[\"text\"] = df[\"text\"].apply(word_tokenize)\n",
        "stop_words = set(stopwords.words(\"english\"))\n",
        "df[\"text\"] = df[\"text\"].apply(lambda x: [word for word in x if word not in stop_words])\n",
        "df[\"text\"] = df[\"text\"].apply(lambda x: \" \".join(x))\n"
      ],
      "metadata": {
        "id": "qxGnFmlZ5U99"
      },
      "execution_count": 4,
      "outputs": []
    },
    {
      "cell_type": "code",
      "source": [
        "#Feature Extraction\n",
        "vectorizer = CountVectorizer()\n",
        "X = vectorizer.fit_transform(df[\"text\"])\n",
        "\n",
        "#Split the Dataset\n",
        "X_train, X_test, y_train, y_test = train_test_split(X, df[\"label\"], test_size=0.2, random_state=42)\n",
        "\n",
        "#Train a classification model, such as Multinomial Naive Bayes\n",
        "classifier = MultinomialNB()\n",
        "classifier.fit(X_train, y_train)\n",
        "\n",
        "#Evaluate the model's performance using metrics like accuracy and classification report\n",
        "y_pred = classifier.predict(X_test)\n",
        "accuracy = accuracy_score(y_test, y_pred)\n",
        "report = classification_report(y_test, y_pred)\n",
        "print(\"Accuracy:\", accuracy)\n",
        "print(\"Classification Report:\")\n",
        "print(report)\n",
        "\n"
      ],
      "metadata": {
        "colab": {
          "base_uri": "https://localhost:8080/"
        },
        "id": "jvE7rIbg5uKL",
        "outputId": "fc0e27d5-5f56-40fe-a076-9f691cfa9e9d"
      },
      "execution_count": 5,
      "outputs": [
        {
          "output_type": "stream",
          "name": "stdout",
          "text": [
            "Accuracy: 0.9748878923766816\n",
            "Classification Report:\n",
            "              precision    recall  f1-score   support\n",
            "\n",
            "         ham       0.99      0.98      0.99       965\n",
            "        spam       0.90      0.92      0.91       150\n",
            "\n",
            "    accuracy                           0.97      1115\n",
            "   macro avg       0.94      0.95      0.95      1115\n",
            "weighted avg       0.98      0.97      0.98      1115\n",
            "\n"
          ]
        }
      ]
    },
    {
      "cell_type": "code",
      "source": [
        "joblib.dump(classifier, 'email_spam_model.pkl')"
      ],
      "metadata": {
        "colab": {
          "base_uri": "https://localhost:8080/"
        },
        "id": "wj0i7ric9uc6",
        "outputId": "7cd9f55f-23a5-48c7-ac1f-3245b7256f48"
      },
      "execution_count": 6,
      "outputs": [
        {
          "output_type": "execute_result",
          "data": {
            "text/plain": [
              "['email_spam_model.pkl']"
            ]
          },
          "metadata": {},
          "execution_count": 6
        }
      ]
    },
    {
      "cell_type": "code",
      "source": [
        "loaded_model = joblib.load('email_spam_model.pkl')\n",
        "new_email = [\"Congratulations! You've won a prize. Claim it now.\"]\n",
        "new_email = vectorizer.transform(new_email)  # Assuming you have the vectorizer from the previous code\n",
        "prediction = loaded_model.predict(new_email)\n",
        "\n",
        "if prediction[0] == \"spam\":\n",
        "    print(\"This email is spam.\")\n",
        "else:\n",
        "    print(\"This email is not spam.\")\n"
      ],
      "metadata": {
        "id": "5w5LTwyd97Jo",
        "outputId": "d53d50c3-ad8c-4ee0-a0dd-ec4536bee4f3",
        "colab": {
          "base_uri": "https://localhost:8080/"
        }
      },
      "execution_count": 7,
      "outputs": [
        {
          "output_type": "stream",
          "name": "stdout",
          "text": [
            "This email is spam.\n"
          ]
        }
      ]
    },
    {
      "cell_type": "markdown",
      "source": [
        "In conclusion, email spam detection acts as a vital defense against the ongoing threat of unwanted and potentially harmful messages invading our inboxes. By leveraging advanced algorithms and machine learning techniques, we can effectively filter through the flood of emails, ensuring that only legitimate and meaningful communications reach their intended recipients."
      ],
      "metadata": {
        "id": "wDVEpp41eGgU"
      }
    }
  ]
}